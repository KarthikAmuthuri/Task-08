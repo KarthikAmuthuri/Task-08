{
  "nbformat": 4,
  "nbformat_minor": 0,
  "metadata": {
    "colab": {
      "provenance": [],
      "authorship_tag": "ABX9TyOPrb5LA6Gp1cpCcwTrTlZW",
      "include_colab_link": true
    },
    "kernelspec": {
      "name": "python3",
      "display_name": "Python 3"
    },
    "language_info": {
      "name": "python"
    }
  },
  "cells": [
    {
      "cell_type": "markdown",
      "metadata": {
        "id": "view-in-github",
        "colab_type": "text"
      },
      "source": [
        "<a href=\"https://colab.research.google.com/github/KarthikAmuthuri/Task-08/blob/main/NLP_Task_01.ipynb\" target=\"_parent\"><img src=\"https://colab.research.google.com/assets/colab-badge.svg\" alt=\"Open In Colab\"/></a>"
      ]
    },
    {
      "cell_type": "markdown",
      "source": [
        "**Task-1**\n",
        "\t\n",
        "  You need to translate each word or sentence from English to Spanish, French and German \n"
      ],
      "metadata": {
        "id": "QdSpjrNKRM6H"
      }
    },
    {
      "cell_type": "code",
      "source": [
        "!pip install transformers"
      ],
      "metadata": {
        "colab": {
          "base_uri": "https://localhost:8080/"
        },
        "id": "Lb1egI4BRR6F",
        "outputId": "77847ddf-19cd-4d28-ceb2-7c8ec3d50713"
      },
      "execution_count": null,
      "outputs": [
        {
          "output_type": "stream",
          "name": "stdout",
          "text": [
            "Looking in indexes: https://pypi.org/simple, https://us-python.pkg.dev/colab-wheels/public/simple/\n",
            "Requirement already satisfied: transformers in /usr/local/lib/python3.7/dist-packages (4.24.0)\n",
            "Requirement already satisfied: filelock in /usr/local/lib/python3.7/dist-packages (from transformers) (3.8.0)\n",
            "Requirement already satisfied: packaging>=20.0 in /usr/local/lib/python3.7/dist-packages (from transformers) (21.3)\n",
            "Requirement already satisfied: requests in /usr/local/lib/python3.7/dist-packages (from transformers) (2.23.0)\n",
            "Requirement already satisfied: pyyaml>=5.1 in /usr/local/lib/python3.7/dist-packages (from transformers) (6.0)\n",
            "Requirement already satisfied: huggingface-hub<1.0,>=0.10.0 in /usr/local/lib/python3.7/dist-packages (from transformers) (0.11.1)\n",
            "Requirement already satisfied: importlib-metadata in /usr/local/lib/python3.7/dist-packages (from transformers) (4.13.0)\n",
            "Requirement already satisfied: numpy>=1.17 in /usr/local/lib/python3.7/dist-packages (from transformers) (1.21.6)\n",
            "Requirement already satisfied: tqdm>=4.27 in /usr/local/lib/python3.7/dist-packages (from transformers) (4.64.1)\n",
            "Requirement already satisfied: regex!=2019.12.17 in /usr/local/lib/python3.7/dist-packages (from transformers) (2022.6.2)\n",
            "Requirement already satisfied: tokenizers!=0.11.3,<0.14,>=0.11.1 in /usr/local/lib/python3.7/dist-packages (from transformers) (0.13.2)\n",
            "Requirement already satisfied: typing-extensions>=3.7.4.3 in /usr/local/lib/python3.7/dist-packages (from huggingface-hub<1.0,>=0.10.0->transformers) (4.1.1)\n",
            "Requirement already satisfied: pyparsing!=3.0.5,>=2.0.2 in /usr/local/lib/python3.7/dist-packages (from packaging>=20.0->transformers) (3.0.9)\n",
            "Requirement already satisfied: zipp>=0.5 in /usr/local/lib/python3.7/dist-packages (from importlib-metadata->transformers) (3.10.0)\n",
            "Requirement already satisfied: idna<3,>=2.5 in /usr/local/lib/python3.7/dist-packages (from requests->transformers) (2.10)\n",
            "Requirement already satisfied: chardet<4,>=3.0.2 in /usr/local/lib/python3.7/dist-packages (from requests->transformers) (3.0.4)\n",
            "Requirement already satisfied: urllib3!=1.25.0,!=1.25.1,<1.26,>=1.21.1 in /usr/local/lib/python3.7/dist-packages (from requests->transformers) (1.24.3)\n",
            "Requirement already satisfied: certifi>=2017.4.17 in /usr/local/lib/python3.7/dist-packages (from requests->transformers) (2022.9.24)\n"
          ]
        }
      ]
    },
    {
      "cell_type": "code",
      "source": [
        "from transformers import pipeline"
      ],
      "metadata": {
        "id": "N_1RwQjERY3J"
      },
      "execution_count": null,
      "outputs": []
    },
    {
      "cell_type": "code",
      "source": [
        "import pandas as pd"
      ],
      "metadata": {
        "id": "bXq8AgPlRv2H"
      },
      "execution_count": null,
      "outputs": []
    },
    {
      "cell_type": "code",
      "source": [
        "df = pd.read_csv(\"English.csv\")"
      ],
      "metadata": {
        "id": "rdT9GQptSIOv"
      },
      "execution_count": null,
      "outputs": []
    },
    {
      "cell_type": "code",
      "source": [
        "df.shape"
      ],
      "metadata": {
        "colab": {
          "base_uri": "https://localhost:8080/"
        },
        "id": "FO-odaIcTvbX",
        "outputId": "9a3c0c83-d1e3-43b7-cc02-b832eac99137"
      },
      "execution_count": null,
      "outputs": [
        {
          "output_type": "execute_result",
          "data": {
            "text/plain": [
              "(175621, 1)"
            ]
          },
          "metadata": {},
          "execution_count": 5
        }
      ]
    },
    {
      "cell_type": "code",
      "source": [
        "df.head()"
      ],
      "metadata": {
        "colab": {
          "base_uri": "https://localhost:8080/",
          "height": 206
        },
        "id": "m_Qyz_xrST5y",
        "outputId": "ce2554a8-0fac-40e7-ffc6-304aa2a7d91d"
      },
      "execution_count": null,
      "outputs": [
        {
          "output_type": "execute_result",
          "data": {
            "text/plain": [
              "  English words/sentences\n",
              "0                     Hi.\n",
              "1                    Run!\n",
              "2                    Run!\n",
              "3                    Who?\n",
              "4                    Wow!"
            ],
            "text/html": [
              "\n",
              "  <div id=\"df-a775288b-66d0-40ad-945e-90e8b2653626\">\n",
              "    <div class=\"colab-df-container\">\n",
              "      <div>\n",
              "<style scoped>\n",
              "    .dataframe tbody tr th:only-of-type {\n",
              "        vertical-align: middle;\n",
              "    }\n",
              "\n",
              "    .dataframe tbody tr th {\n",
              "        vertical-align: top;\n",
              "    }\n",
              "\n",
              "    .dataframe thead th {\n",
              "        text-align: right;\n",
              "    }\n",
              "</style>\n",
              "<table border=\"1\" class=\"dataframe\">\n",
              "  <thead>\n",
              "    <tr style=\"text-align: right;\">\n",
              "      <th></th>\n",
              "      <th>English words/sentences</th>\n",
              "    </tr>\n",
              "  </thead>\n",
              "  <tbody>\n",
              "    <tr>\n",
              "      <th>0</th>\n",
              "      <td>Hi.</td>\n",
              "    </tr>\n",
              "    <tr>\n",
              "      <th>1</th>\n",
              "      <td>Run!</td>\n",
              "    </tr>\n",
              "    <tr>\n",
              "      <th>2</th>\n",
              "      <td>Run!</td>\n",
              "    </tr>\n",
              "    <tr>\n",
              "      <th>3</th>\n",
              "      <td>Who?</td>\n",
              "    </tr>\n",
              "    <tr>\n",
              "      <th>4</th>\n",
              "      <td>Wow!</td>\n",
              "    </tr>\n",
              "  </tbody>\n",
              "</table>\n",
              "</div>\n",
              "      <button class=\"colab-df-convert\" onclick=\"convertToInteractive('df-a775288b-66d0-40ad-945e-90e8b2653626')\"\n",
              "              title=\"Convert this dataframe to an interactive table.\"\n",
              "              style=\"display:none;\">\n",
              "        \n",
              "  <svg xmlns=\"http://www.w3.org/2000/svg\" height=\"24px\"viewBox=\"0 0 24 24\"\n",
              "       width=\"24px\">\n",
              "    <path d=\"M0 0h24v24H0V0z\" fill=\"none\"/>\n",
              "    <path d=\"M18.56 5.44l.94 2.06.94-2.06 2.06-.94-2.06-.94-.94-2.06-.94 2.06-2.06.94zm-11 1L8.5 8.5l.94-2.06 2.06-.94-2.06-.94L8.5 2.5l-.94 2.06-2.06.94zm10 10l.94 2.06.94-2.06 2.06-.94-2.06-.94-.94-2.06-.94 2.06-2.06.94z\"/><path d=\"M17.41 7.96l-1.37-1.37c-.4-.4-.92-.59-1.43-.59-.52 0-1.04.2-1.43.59L10.3 9.45l-7.72 7.72c-.78.78-.78 2.05 0 2.83L4 21.41c.39.39.9.59 1.41.59.51 0 1.02-.2 1.41-.59l7.78-7.78 2.81-2.81c.8-.78.8-2.07 0-2.86zM5.41 20L4 18.59l7.72-7.72 1.47 1.35L5.41 20z\"/>\n",
              "  </svg>\n",
              "      </button>\n",
              "      \n",
              "  <style>\n",
              "    .colab-df-container {\n",
              "      display:flex;\n",
              "      flex-wrap:wrap;\n",
              "      gap: 12px;\n",
              "    }\n",
              "\n",
              "    .colab-df-convert {\n",
              "      background-color: #E8F0FE;\n",
              "      border: none;\n",
              "      border-radius: 50%;\n",
              "      cursor: pointer;\n",
              "      display: none;\n",
              "      fill: #1967D2;\n",
              "      height: 32px;\n",
              "      padding: 0 0 0 0;\n",
              "      width: 32px;\n",
              "    }\n",
              "\n",
              "    .colab-df-convert:hover {\n",
              "      background-color: #E2EBFA;\n",
              "      box-shadow: 0px 1px 2px rgba(60, 64, 67, 0.3), 0px 1px 3px 1px rgba(60, 64, 67, 0.15);\n",
              "      fill: #174EA6;\n",
              "    }\n",
              "\n",
              "    [theme=dark] .colab-df-convert {\n",
              "      background-color: #3B4455;\n",
              "      fill: #D2E3FC;\n",
              "    }\n",
              "\n",
              "    [theme=dark] .colab-df-convert:hover {\n",
              "      background-color: #434B5C;\n",
              "      box-shadow: 0px 1px 3px 1px rgba(0, 0, 0, 0.15);\n",
              "      filter: drop-shadow(0px 1px 2px rgba(0, 0, 0, 0.3));\n",
              "      fill: #FFFFFF;\n",
              "    }\n",
              "  </style>\n",
              "\n",
              "      <script>\n",
              "        const buttonEl =\n",
              "          document.querySelector('#df-a775288b-66d0-40ad-945e-90e8b2653626 button.colab-df-convert');\n",
              "        buttonEl.style.display =\n",
              "          google.colab.kernel.accessAllowed ? 'block' : 'none';\n",
              "\n",
              "        async function convertToInteractive(key) {\n",
              "          const element = document.querySelector('#df-a775288b-66d0-40ad-945e-90e8b2653626');\n",
              "          const dataTable =\n",
              "            await google.colab.kernel.invokeFunction('convertToInteractive',\n",
              "                                                     [key], {});\n",
              "          if (!dataTable) return;\n",
              "\n",
              "          const docLinkHtml = 'Like what you see? Visit the ' +\n",
              "            '<a target=\"_blank\" href=https://colab.research.google.com/notebooks/data_table.ipynb>data table notebook</a>'\n",
              "            + ' to learn more about interactive tables.';\n",
              "          element.innerHTML = '';\n",
              "          dataTable['output_type'] = 'display_data';\n",
              "          await google.colab.output.renderOutput(dataTable, element);\n",
              "          const docLink = document.createElement('div');\n",
              "          docLink.innerHTML = docLinkHtml;\n",
              "          element.appendChild(docLink);\n",
              "        }\n",
              "      </script>\n",
              "    </div>\n",
              "  </div>\n",
              "  "
            ]
          },
          "metadata": {},
          "execution_count": 6
        }
      ]
    },
    {
      "cell_type": "code",
      "source": [
        "df.value_counts()"
      ],
      "metadata": {
        "colab": {
          "base_uri": "https://localhost:8080/"
        },
        "id": "3p3E5xDChyQY",
        "outputId": "b6bb5dd2-f561-4b33-f90c-dee3baec9182"
      },
      "execution_count": null,
      "outputs": [
        {
          "output_type": "execute_result",
          "data": {
            "text/plain": [
              "English words/sentences                                      \n",
              "I can't tell you how happy I am that you've come to visit us.    32\n",
              "You gotta get more organized.                                    26\n",
              "You're the teacher.                                              26\n",
              "You don't have to apologize.                                     24\n",
              "You're the one who trained me.                                   24\n",
              "                                                                 ..\n",
              "I was in Boston in October.                                       1\n",
              "I was in Australia last year.                                     1\n",
              "I was impatient for her arrival.                                  1\n",
              "I was ignorant of his plan.                                       1\n",
              "iTunes has turned out to be a real cash cow for Apple.            1\n",
              "Length: 123100, dtype: int64"
            ]
          },
          "metadata": {},
          "execution_count": 7
        }
      ]
    },
    {
      "cell_type": "code",
      "source": [
        "df.drop_duplicates(inplace = True)"
      ],
      "metadata": {
        "id": "Y9FbnH8dShsO"
      },
      "execution_count": null,
      "outputs": []
    },
    {
      "cell_type": "code",
      "source": [
        "df.reset_index(drop = True, inplace = True)"
      ],
      "metadata": {
        "id": "BvaXe5s4Uc7b"
      },
      "execution_count": null,
      "outputs": []
    },
    {
      "cell_type": "code",
      "source": [
        "df.shape"
      ],
      "metadata": {
        "colab": {
          "base_uri": "https://localhost:8080/"
        },
        "id": "aFpRRSsCTH9b",
        "outputId": "a4e2b51a-197b-4242-f169-a35241cbd19e"
      },
      "execution_count": null,
      "outputs": [
        {
          "output_type": "execute_result",
          "data": {
            "text/plain": [
              "(123100, 1)"
            ]
          },
          "metadata": {},
          "execution_count": 10
        }
      ]
    },
    {
      "cell_type": "code",
      "source": [
        "data = df.iloc[:,:]"
      ],
      "metadata": {
        "id": "YqFHEAvlWU0f"
      },
      "execution_count": null,
      "outputs": []
    },
    {
      "cell_type": "code",
      "source": [
        "data.insert(1,\"German words/sentences\",' ')\n",
        "data.insert(2,\"French words/sentences\",' ')\n",
        "data.insert(3,\"Romanian words/sentences\",' ')"
      ],
      "metadata": {
        "id": "v6A-reDmXgxA"
      },
      "execution_count": null,
      "outputs": []
    },
    {
      "cell_type": "code",
      "source": [
        "data.shape"
      ],
      "metadata": {
        "colab": {
          "base_uri": "https://localhost:8080/"
        },
        "id": "nU-KGL3baLAg",
        "outputId": "fbb3eeac-39e6-493f-e1cb-c5c1e1fb57af"
      },
      "execution_count": null,
      "outputs": [
        {
          "output_type": "execute_result",
          "data": {
            "text/plain": [
              "(123100, 4)"
            ]
          },
          "metadata": {},
          "execution_count": 13
        }
      ]
    },
    {
      "cell_type": "code",
      "source": [
        "# Init translator\n",
        "En_Ge_translator = pipeline(\"translation_en_to_de\") #English to German\n",
        "En_Fr_translator = pipeline(\"translation_en_to_fr\") #English to French\n",
        "En_Ro_translator = pipeline(\"translation_en_to_ro\") #English to romanian"
      ],
      "metadata": {
        "colab": {
          "base_uri": "https://localhost:8080/"
        },
        "id": "LY6ca9cAVoVz",
        "outputId": "3ee3847b-bf63-4ab2-b158-2369f886b722"
      },
      "execution_count": null,
      "outputs": [
        {
          "output_type": "stream",
          "name": "stderr",
          "text": [
            "No model was supplied, defaulted to t5-base and revision 686f1db (https://huggingface.co/t5-base).\n",
            "Using a pipeline without specifying a model name and revision in production is not recommended.\n",
            "/usr/local/lib/python3.7/dist-packages/transformers/models/t5/tokenization_t5_fast.py:166: FutureWarning: This tokenizer was incorrectly instantiated with a model max length of 512 which will be corrected in Transformers v5.\n",
            "For now, this behavior is kept to avoid breaking backwards compatibility when padding/encoding with `truncation is True`.\n",
            "- Be aware that you SHOULD NOT rely on t5-base automatically truncating your input to 512 when padding/encoding.\n",
            "- If you want to encode/pad to sequences longer than 512 you can either instantiate this tokenizer with `model_max_length` or pass `max_length` when encoding/padding.\n",
            "- To avoid this warning, please instantiate this tokenizer with `model_max_length` set to your preferred value.\n",
            "  FutureWarning,\n",
            "No model was supplied, defaulted to t5-base and revision 686f1db (https://huggingface.co/t5-base).\n",
            "Using a pipeline without specifying a model name and revision in production is not recommended.\n",
            "No model was supplied, defaulted to t5-base and revision 686f1db (https://huggingface.co/t5-base).\n",
            "Using a pipeline without specifying a model name and revision in production is not recommended.\n"
          ]
        }
      ]
    },
    {
      "cell_type": "code",
      "source": [
        "x = list(data.iloc[0:175000:1000,0])"
      ],
      "metadata": {
        "id": "dK5gnt2Ei8l2"
      },
      "execution_count": null,
      "outputs": []
    },
    {
      "cell_type": "code",
      "source": [
        "x"
      ],
      "metadata": {
        "colab": {
          "base_uri": "https://localhost:8080/"
        },
        "id": "xMBHyceeV6Eh",
        "outputId": "f867bac1-448c-4252-dc79-13953e67a146"
      },
      "execution_count": null,
      "outputs": [
        {
          "output_type": "execute_result",
          "data": {
            "text/plain": [
              "['Hi.',\n",
              " \"We'll work.\",\n",
              " 'I feel funny.',\n",
              " 'I can buy one.',\n",
              " \"We're in luck.\",\n",
              " \"I've got plans.\",\n",
              " 'Do you remember?',\n",
              " 'It was too soft.',\n",
              " 'You can go back.',\n",
              " 'I need a red pen.',\n",
              " 'They all watched.',\n",
              " 'Everyone screamed.',\n",
              " \"I'll sit with Tom.\",\n",
              " 'This egg is fresh.',\n",
              " 'Do as he tells you.',\n",
              " 'I saved you a seat.',\n",
              " 'Stop making a fuss.',\n",
              " 'Who are those guys?',\n",
              " 'How would that help?',\n",
              " 'Is that really true?',\n",
              " 'This is a good deal.',\n",
              " 'Are you able to type?',\n",
              " \"I don't have a sword.\",\n",
              " 'It has to be removed.',\n",
              " 'This chair is broken.',\n",
              " \"You're going to lose.\",\n",
              " 'I bought a new camera.',\n",
              " \"I'm not done with you.\",\n",
              " 'The door clicked shut.',\n",
              " 'Who told Tom to leave?',\n",
              " 'He was sick of his job.',\n",
              " 'I weigh about 60 kilos.',\n",
              " \"She's at the hotel now.\",\n",
              " 'We have no extra money.',\n",
              " 'Do you want me to leave?',\n",
              " 'I have tried everything.',\n",
              " \"It's not the real thing.\",\n",
              " 'This house is abandoned.',\n",
              " \"You don't have to hurry.\",\n",
              " 'He was very kind to them.',\n",
              " \"I think it's really ugly.\",\n",
              " 'Not all people like dogs.',\n",
              " 'Tom helped Mary stand up.',\n",
              " 'A gun might come in handy.',\n",
              " 'I can be there in an hour.',\n",
              " 'I want you to wait for me.',\n",
              " 'No one knew Tom was there.',\n",
              " 'Tom extinguished the fire.',\n",
              " 'You probably need a drink.',\n",
              " 'His joke made us all laugh.',\n",
              " 'I thought you were serious.',\n",
              " 'She complains all the time.',\n",
              " 'Tom is in excellent health.',\n",
              " \"You're starting to bore me.\",\n",
              " 'I am interested in swimming.',\n",
              " 'I wanted to be a journalist.',\n",
              " 'She may use this typewriter.',\n",
              " 'Tom ordered a glass of wine.',\n",
              " 'Can you see that small house?',\n",
              " \"I didn't know that you cared.\",\n",
              " \"I'm breaking in my new shoes.\",\n",
              " 'That would be almost perfect.',\n",
              " 'We met each other at a party.',\n",
              " \"Don't anybody leave this room.\",\n",
              " 'I have lived here a long time.',\n",
              " \"It's Tom's birthday next week.\",\n",
              " 'This car is used by my father.',\n",
              " 'Would you mind coming with me?',\n",
              " \"Hey, how's it going down there?\",\n",
              " 'I want to get my mind off work.',\n",
              " 'She is very afraid of the dark.',\n",
              " 'Trains are running on schedule.',\n",
              " \"Don't let anyone enter the room.\",\n",
              " \"I haven't gotten used to it yet.\",\n",
              " 'Let me know what you want to do.',\n",
              " 'Tom dove into the swimming pool.',\n",
              " \"Can you tell us how that'll work?\",\n",
              " 'I had a really nice time tonight.',\n",
              " 'Mary is now studying in her room.',\n",
              " 'Tom is the one I gave the key to.',\n",
              " \"Don't talk to my sister like that.\",\n",
              " 'I spend my free time with my kids.',\n",
              " 'Taking care of the baby is my job.',\n",
              " 'Will you excuse us for one moment?',\n",
              " \"I don't have any money on me today.\",\n",
              " 'Many philosophers come from Greece.',\n",
              " 'Tom seems to know all that already.',\n",
              " 'He fell ill because he ate too much.',\n",
              " \"I'm not feeling particularly hungry.\",\n",
              " 'Tom could no longer control himself.',\n",
              " 'He is not the man that he used to be.',\n",
              " 'If I were you, I would paint it blue.',\n",
              " 'Tom said he thought Mary was nervous.',\n",
              " 'I am uncomfortable in these new shoes.',\n",
              " 'My vet recommended euthanizing my dog.',\n",
              " 'Within hours, the world knew the news.',\n",
              " 'I love you from the bottom of my heart.',\n",
              " 'There must be some way we can help Tom.',\n",
              " 'He represented his class at the meeting.',\n",
              " 'Please feel free to correct my mistakes.',\n",
              " 'Come on, guys. This is not funny anymore.',\n",
              " 'If you have the time, come along with me.',\n",
              " \"You'd better try to assert yourself more.\",\n",
              " 'Mother bought me a nice dress last Sunday.',\n",
              " 'Have you ever had lunch at this restaurant?',\n",
              " 'The temperature fell below zero last night.',\n",
              " 'I see you had to work late again last night.',\n",
              " 'Besides the rain, we experienced heavy winds.',\n",
              " \"This is the best Christmas I've had in years.\",\n",
              " 'Looters stole ancient artifacts from the tomb.',\n",
              " \"I know that you don't know how to speak French.\",\n",
              " 'He worked hard in order to pass the examination.',\n",
              " \"He gets really testy when he doesn't get his way.\",\n",
              " 'Hoover was born in the farm state of Iowa in 1874.',\n",
              " \"I think that I understand what Tom's trying to say.\",\n",
              " 'That pretty bird did nothing but sing day after day.',\n",
              " 'As we went around the corner, the lake came into view.',\n",
              " 'The top spun perilously close to the edge of the table.',\n",
              " 'The crowd got out of control and broke through the fence.',\n",
              " 'He became so excited that what he said made no sense at all.',\n",
              " \"I didn't want the baby to catch a cold, so I closed the window.\",\n",
              " 'I told the children to be quiet, but they just kept on being noisy.',\n",
              " 'The investigation concluded that the police officer had done nothing wrong.',\n",
              " 'The police suspected there was a connection between the abandoned car and the dead body found three miles away.']"
            ]
          },
          "metadata": {},
          "execution_count": 16
        }
      ]
    },
    {
      "cell_type": "code",
      "source": [
        "en_ge = pd.DataFrame(En_Ge_translator(x))\n",
        "en_fr = pd.DataFrame(En_Fr_translator(x))\n",
        "en_ro = pd.DataFrame(En_Ro_translator(x))\n"
      ],
      "metadata": {
        "id": "0xMRHcHzVoTG"
      },
      "execution_count": null,
      "outputs": []
    },
    {
      "cell_type": "code",
      "source": [
        "ge_values = en_ge.iloc[:,0]\n",
        "fr_values = en_fr.iloc[:,0]\n",
        "ro_values = en_ro.iloc[:,0]"
      ],
      "metadata": {
        "id": "RS8R_Xc-hCGu"
      },
      "execution_count": null,
      "outputs": []
    },
    {
      "cell_type": "code",
      "source": [
        "data.iloc[0:175000:1000,1] = ge_values\n",
        "data.iloc[0:175000:1000,2] = fr_values\n",
        "data.iloc[0:175000:1000,3] = ro_values"
      ],
      "metadata": {
        "id": "p1kMwLXKVoI7"
      },
      "execution_count": null,
      "outputs": []
    },
    {
      "cell_type": "code",
      "source": [
        "data.iloc[0:175000:1000,:]"
      ],
      "metadata": {
        "colab": {
          "base_uri": "https://localhost:8080/",
          "height": 554
        },
        "id": "g92jo7XLeULk",
        "outputId": "83252fd4-fcf6-42dd-f74a-a2c5ba88f932"
      },
      "execution_count": null,
      "outputs": [
        {
          "output_type": "execute_result",
          "data": {
            "text/plain": [
              "                                  English words/sentences  \\\n",
              "0                                                     Hi.   \n",
              "1000                                          We'll work.   \n",
              "2000                                        I feel funny.   \n",
              "3000                                       I can buy one.   \n",
              "4000                                       We're in luck.   \n",
              "...                                                   ...   \n",
              "119000  He became so excited that what he said made no...   \n",
              "120000  I didn't want the baby to catch a cold, so I c...   \n",
              "121000  I told the children to be quiet, but they just...   \n",
              "122000  The investigation concluded that the police of...   \n",
              "123000  The police suspected there was a connection be...   \n",
              "\n",
              "                                   German words/sentences  \\\n",
              "0                                                  Hallo.   \n",
              "1000                                 Wir werden arbeiten.   \n",
              "2000                               Ich fühle mich lustig.   \n",
              "3000                                Ich kann eine kaufen.   \n",
              "4000                                     Wir haben Glück.   \n",
              "...                                                   ...   \n",
              "119000  Er wurde so begeistert, dass das, was er sagte...   \n",
              "120000  Ich wollte nicht, dass das Kind eine Erkältung...   \n",
              "121000  Ich habe den Kindern gesagt, sie sollten ruhig...   \n",
              "122000  Die Untersuchung kam zu dem Schluss, dass der ...   \n",
              "123000  Die Polizei vermutete, dass es einen Zusammenh...   \n",
              "\n",
              "                                   French words/sentences  \\\n",
              "0                                                Bonjour.   \n",
              "1000                                  Nous travaillerons.   \n",
              "2000                                  Je me sens étrange.   \n",
              "3000                               Je peux en acheter un.   \n",
              "4000                             Nous avons de la chance.   \n",
              "...                                                   ...   \n",
              "119000  Il est tellement enthousiaste que ce qu'il a d...   \n",
              "120000  Je ne voulais pas que le bébé se rhume, alors ...   \n",
              "121000  J'ai dit aux enfants d'être tranquilles, mais ...   \n",
              "122000  L'enquête a conclu que l'agent de police n'ava...   \n",
              "123000  La police soupçonnait qu'il y avait un lien en...   \n",
              "\n",
              "                                 Romanian words/sentences  \n",
              "0                                                  Salut.  \n",
              "1000                                           Vom lucra.  \n",
              "2000                                     Mă simt amuzant.  \n",
              "3000                                  Pot să cumpăr unul.  \n",
              "4000                                          Avem noroc.  \n",
              "...                                                   ...  \n",
              "119000  A devenit atât de entuziasmat încât ceea ce a ...  \n",
              "120000  Nu am vrut ca bebeluşul să se roage, aşa că am...  \n",
              "121000  Le-am spus copiilor să fie liniştiţi, dar ei a...  \n",
              "122000  Investigaţia a concluzionat că ofiţerul de pol...  \n",
              "123000  Poliţia a suspectat că ar exista o legătură în...  \n",
              "\n",
              "[124 rows x 4 columns]"
            ],
            "text/html": [
              "\n",
              "  <div id=\"df-e459b363-88f5-4d97-aa20-766416c6b6bf\">\n",
              "    <div class=\"colab-df-container\">\n",
              "      <div>\n",
              "<style scoped>\n",
              "    .dataframe tbody tr th:only-of-type {\n",
              "        vertical-align: middle;\n",
              "    }\n",
              "\n",
              "    .dataframe tbody tr th {\n",
              "        vertical-align: top;\n",
              "    }\n",
              "\n",
              "    .dataframe thead th {\n",
              "        text-align: right;\n",
              "    }\n",
              "</style>\n",
              "<table border=\"1\" class=\"dataframe\">\n",
              "  <thead>\n",
              "    <tr style=\"text-align: right;\">\n",
              "      <th></th>\n",
              "      <th>English words/sentences</th>\n",
              "      <th>German words/sentences</th>\n",
              "      <th>French words/sentences</th>\n",
              "      <th>Romanian words/sentences</th>\n",
              "    </tr>\n",
              "  </thead>\n",
              "  <tbody>\n",
              "    <tr>\n",
              "      <th>0</th>\n",
              "      <td>Hi.</td>\n",
              "      <td>Hallo.</td>\n",
              "      <td>Bonjour.</td>\n",
              "      <td>Salut.</td>\n",
              "    </tr>\n",
              "    <tr>\n",
              "      <th>1000</th>\n",
              "      <td>We'll work.</td>\n",
              "      <td>Wir werden arbeiten.</td>\n",
              "      <td>Nous travaillerons.</td>\n",
              "      <td>Vom lucra.</td>\n",
              "    </tr>\n",
              "    <tr>\n",
              "      <th>2000</th>\n",
              "      <td>I feel funny.</td>\n",
              "      <td>Ich fühle mich lustig.</td>\n",
              "      <td>Je me sens étrange.</td>\n",
              "      <td>Mă simt amuzant.</td>\n",
              "    </tr>\n",
              "    <tr>\n",
              "      <th>3000</th>\n",
              "      <td>I can buy one.</td>\n",
              "      <td>Ich kann eine kaufen.</td>\n",
              "      <td>Je peux en acheter un.</td>\n",
              "      <td>Pot să cumpăr unul.</td>\n",
              "    </tr>\n",
              "    <tr>\n",
              "      <th>4000</th>\n",
              "      <td>We're in luck.</td>\n",
              "      <td>Wir haben Glück.</td>\n",
              "      <td>Nous avons de la chance.</td>\n",
              "      <td>Avem noroc.</td>\n",
              "    </tr>\n",
              "    <tr>\n",
              "      <th>...</th>\n",
              "      <td>...</td>\n",
              "      <td>...</td>\n",
              "      <td>...</td>\n",
              "      <td>...</td>\n",
              "    </tr>\n",
              "    <tr>\n",
              "      <th>119000</th>\n",
              "      <td>He became so excited that what he said made no...</td>\n",
              "      <td>Er wurde so begeistert, dass das, was er sagte...</td>\n",
              "      <td>Il est tellement enthousiaste que ce qu'il a d...</td>\n",
              "      <td>A devenit atât de entuziasmat încât ceea ce a ...</td>\n",
              "    </tr>\n",
              "    <tr>\n",
              "      <th>120000</th>\n",
              "      <td>I didn't want the baby to catch a cold, so I c...</td>\n",
              "      <td>Ich wollte nicht, dass das Kind eine Erkältung...</td>\n",
              "      <td>Je ne voulais pas que le bébé se rhume, alors ...</td>\n",
              "      <td>Nu am vrut ca bebeluşul să se roage, aşa că am...</td>\n",
              "    </tr>\n",
              "    <tr>\n",
              "      <th>121000</th>\n",
              "      <td>I told the children to be quiet, but they just...</td>\n",
              "      <td>Ich habe den Kindern gesagt, sie sollten ruhig...</td>\n",
              "      <td>J'ai dit aux enfants d'être tranquilles, mais ...</td>\n",
              "      <td>Le-am spus copiilor să fie liniştiţi, dar ei a...</td>\n",
              "    </tr>\n",
              "    <tr>\n",
              "      <th>122000</th>\n",
              "      <td>The investigation concluded that the police of...</td>\n",
              "      <td>Die Untersuchung kam zu dem Schluss, dass der ...</td>\n",
              "      <td>L'enquête a conclu que l'agent de police n'ava...</td>\n",
              "      <td>Investigaţia a concluzionat că ofiţerul de pol...</td>\n",
              "    </tr>\n",
              "    <tr>\n",
              "      <th>123000</th>\n",
              "      <td>The police suspected there was a connection be...</td>\n",
              "      <td>Die Polizei vermutete, dass es einen Zusammenh...</td>\n",
              "      <td>La police soupçonnait qu'il y avait un lien en...</td>\n",
              "      <td>Poliţia a suspectat că ar exista o legătură în...</td>\n",
              "    </tr>\n",
              "  </tbody>\n",
              "</table>\n",
              "<p>124 rows × 4 columns</p>\n",
              "</div>\n",
              "      <button class=\"colab-df-convert\" onclick=\"convertToInteractive('df-e459b363-88f5-4d97-aa20-766416c6b6bf')\"\n",
              "              title=\"Convert this dataframe to an interactive table.\"\n",
              "              style=\"display:none;\">\n",
              "        \n",
              "  <svg xmlns=\"http://www.w3.org/2000/svg\" height=\"24px\"viewBox=\"0 0 24 24\"\n",
              "       width=\"24px\">\n",
              "    <path d=\"M0 0h24v24H0V0z\" fill=\"none\"/>\n",
              "    <path d=\"M18.56 5.44l.94 2.06.94-2.06 2.06-.94-2.06-.94-.94-2.06-.94 2.06-2.06.94zm-11 1L8.5 8.5l.94-2.06 2.06-.94-2.06-.94L8.5 2.5l-.94 2.06-2.06.94zm10 10l.94 2.06.94-2.06 2.06-.94-2.06-.94-.94-2.06-.94 2.06-2.06.94z\"/><path d=\"M17.41 7.96l-1.37-1.37c-.4-.4-.92-.59-1.43-.59-.52 0-1.04.2-1.43.59L10.3 9.45l-7.72 7.72c-.78.78-.78 2.05 0 2.83L4 21.41c.39.39.9.59 1.41.59.51 0 1.02-.2 1.41-.59l7.78-7.78 2.81-2.81c.8-.78.8-2.07 0-2.86zM5.41 20L4 18.59l7.72-7.72 1.47 1.35L5.41 20z\"/>\n",
              "  </svg>\n",
              "      </button>\n",
              "      \n",
              "  <style>\n",
              "    .colab-df-container {\n",
              "      display:flex;\n",
              "      flex-wrap:wrap;\n",
              "      gap: 12px;\n",
              "    }\n",
              "\n",
              "    .colab-df-convert {\n",
              "      background-color: #E8F0FE;\n",
              "      border: none;\n",
              "      border-radius: 50%;\n",
              "      cursor: pointer;\n",
              "      display: none;\n",
              "      fill: #1967D2;\n",
              "      height: 32px;\n",
              "      padding: 0 0 0 0;\n",
              "      width: 32px;\n",
              "    }\n",
              "\n",
              "    .colab-df-convert:hover {\n",
              "      background-color: #E2EBFA;\n",
              "      box-shadow: 0px 1px 2px rgba(60, 64, 67, 0.3), 0px 1px 3px 1px rgba(60, 64, 67, 0.15);\n",
              "      fill: #174EA6;\n",
              "    }\n",
              "\n",
              "    [theme=dark] .colab-df-convert {\n",
              "      background-color: #3B4455;\n",
              "      fill: #D2E3FC;\n",
              "    }\n",
              "\n",
              "    [theme=dark] .colab-df-convert:hover {\n",
              "      background-color: #434B5C;\n",
              "      box-shadow: 0px 1px 3px 1px rgba(0, 0, 0, 0.15);\n",
              "      filter: drop-shadow(0px 1px 2px rgba(0, 0, 0, 0.3));\n",
              "      fill: #FFFFFF;\n",
              "    }\n",
              "  </style>\n",
              "\n",
              "      <script>\n",
              "        const buttonEl =\n",
              "          document.querySelector('#df-e459b363-88f5-4d97-aa20-766416c6b6bf button.colab-df-convert');\n",
              "        buttonEl.style.display =\n",
              "          google.colab.kernel.accessAllowed ? 'block' : 'none';\n",
              "\n",
              "        async function convertToInteractive(key) {\n",
              "          const element = document.querySelector('#df-e459b363-88f5-4d97-aa20-766416c6b6bf');\n",
              "          const dataTable =\n",
              "            await google.colab.kernel.invokeFunction('convertToInteractive',\n",
              "                                                     [key], {});\n",
              "          if (!dataTable) return;\n",
              "\n",
              "          const docLinkHtml = 'Like what you see? Visit the ' +\n",
              "            '<a target=\"_blank\" href=https://colab.research.google.com/notebooks/data_table.ipynb>data table notebook</a>'\n",
              "            + ' to learn more about interactive tables.';\n",
              "          element.innerHTML = '';\n",
              "          dataTable['output_type'] = 'display_data';\n",
              "          await google.colab.output.renderOutput(dataTable, element);\n",
              "          const docLink = document.createElement('div');\n",
              "          docLink.innerHTML = docLinkHtml;\n",
              "          element.appendChild(docLink);\n",
              "        }\n",
              "      </script>\n",
              "    </div>\n",
              "  </div>\n",
              "  "
            ]
          },
          "metadata": {},
          "execution_count": 21
        }
      ]
    }
  ]
}